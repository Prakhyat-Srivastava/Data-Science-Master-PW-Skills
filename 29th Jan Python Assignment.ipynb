{
 "cells": [
  {
   "cell_type": "markdown",
   "id": "adb1aa63",
   "metadata": {},
   "source": [
    "1. Who developed Python Programming Language?\n",
    "\n",
    "Ans. Python was developed by Guido van Rossum in the late 1980s"
   ]
  },
  {
   "cell_type": "markdown",
   "id": "35435c56",
   "metadata": {},
   "source": [
    "2. Which type of Programming does Python support?\n",
    "\n",
    "Ans.  Python supports multiple programming paradigms including procedural, object-oriented, and functional programming."
   ]
  },
  {
   "cell_type": "markdown",
   "id": "fd94a875",
   "metadata": {},
   "source": [
    "3. Is Python case sensitive when dealing with identifiers?\n",
    "\n",
    "Ans.Yes, Python is case sensitive when dealing with identifiers.\n"
   ]
  },
  {
   "cell_type": "markdown",
   "id": "c66bfce7",
   "metadata": {},
   "source": [
    "4. What is the correct extension of the Python file?\n",
    "\n",
    "Ans. The correct extension of a Python file is .py.\n",
    "\n",
    "\n",
    "\n",
    "5. Is Python code compiled or interpreted?\n",
    "\n",
    "Ans. Python is an interpreted language, meaning that code is executed line by line at runtime.\n",
    "\n",
    "\n",
    "\n",
    "6. Name a few blocks of code used to define in Python language?\n",
    "\n",
    "Ans. In Python, code blocks are defined using indentation and include functions, loops, and if-else statements.\n",
    "\n",
    "\n",
    "\n",
    "7. State a character used to give single-line comments in Python?\n",
    "\n",
    "Ans. The character # is used to give single-line comments in Python.\n",
    "\n",
    "\n",
    "\n",
    "8. Mention functions which can help us to find the version of python that we are currently working on?\n",
    "\n",
    "Ans. The functions sys.version and sys.version_info can be used to find the version of Python that is currently being used.\n",
    "\n",
    "\n",
    "\n",
    "\n",
    "9. Python supports the creation of anonymous functions at runtime, using a construct called _______\n",
    "\n",
    "Ans. Python supports the creation of anonymous functions at runtime, using a construct called \"lambda\".\n",
    "\n",
    "\n",
    "\n",
    "\n",
    "10. What does pip stand for python?\n",
    "\n",
    "\n",
    "\n",
    "Ans. pip stands for \"Pip Installs Packages\". It is a package management system used for installing and managing Python packages.\n",
    "\n",
    "11. Mention a few built-in functions in python?\n",
    "\n",
    "Ans. A few built-in functions in Python include print(), len(), range(), type(), and str().\n",
    "\n",
    "\n",
    "\n",
    "12. What is the maximum possible length of an identifier in Python?\n",
    "\n",
    "Ans. The maximum possible length of an identifier in Python is unlimited.\n",
    "\n",
    "\n",
    "\n",
    "13. What are the benefits of using Python?\n",
    "\n",
    "Ans. Some benefits of using Python include its simplicity, readability, and versatility. It also has a large community, good documentation, and supports multiple programming paradigms.\n",
    "\n",
    "\n",
    "\n",
    "14. How is memory managed in Python?\n",
    "\n",
    "Ans. Python has a built-in memory manager that manages memory automatically. This includes managing memory allocation and deallocation, as well as garbage collection.\n",
    "\n",
    "\n",
    "\n",
    "15. How to install Python on Windows and set path variables?\n",
    "\n",
    "Ans. To install Python on Windows and set path variables, you can follow these steps:\n",
    "a. Download the latest version of Python from the official website.\n",
    "b. Run the installer and follow the on-screen instructions.\n",
    "c. Open the Command Prompt and type 'setx PATH \"%PATH%;C:\\Python<version_number>\".\n",
    "d. Close and reopen the Command Prompt to apply the changes.\n",
    "\n",
    "\n",
    "\n",
    "16. Is indentation required in python?\n",
    "\n",
    "Ans. Yes, indentation is required in Python. It is used to define code blocks and is an important part of the Python syntax.\n",
    "\n",
    "\n",
    "\n"
   ]
  },
  {
   "cell_type": "code",
   "execution_count": null,
   "id": "cf31bfd7",
   "metadata": {},
   "outputs": [],
   "source": []
  }
 ],
 "metadata": {
  "kernelspec": {
   "display_name": "Python 3 (ipykernel)",
   "language": "python",
   "name": "python3"
  },
  "language_info": {
   "codemirror_mode": {
    "name": "ipython",
    "version": 3
   },
   "file_extension": ".py",
   "mimetype": "text/x-python",
   "name": "python",
   "nbconvert_exporter": "python",
   "pygments_lexer": "ipython3",
   "version": "3.9.13"
  },
  "vp": {
   "vp_config_version": "1.0.0",
   "vp_menu_width": 273,
   "vp_note_display": false,
   "vp_note_width": 0,
   "vp_position": {
    "width": 278
   },
   "vp_section_display": false,
   "vp_signature": "VisualPython"
  }
 },
 "nbformat": 4,
 "nbformat_minor": 5
}
